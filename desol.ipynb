{
 "cells": [
  {
   "cell_type": "code",
   "execution_count": 8,
   "metadata": {},
   "outputs": [
    {
     "name": "stdout",
     "output_type": "stream",
     "text": [
      "{\n",
      "    \"jsonrpc\": \"2.0\",\n",
      "    \"result\": {\n",
      "        \"context\": {\n",
      "            \"apiVersion\": \"1.18.15\",\n",
      "            \"slot\": 275293180\n",
      "        },\n",
      "        \"value\": {\n",
      "            \"data\": [\n",
      "                \"\",\n",
      "                \"base58\"\n",
      "            ],\n",
      "            \"executable\": false,\n",
      "            \"lamports\": 1519362,\n",
      "            \"owner\": \"11111111111111111111111111111111\",\n",
      "            \"rentEpoch\": 18446744073709551615,\n",
      "            \"space\": 0\n",
      "        }\n",
      "    },\n",
      "    \"id\": 1\n",
      "}\n"
     ]
    }
   ],
   "source": [
    "import requests\n",
    "import json\n",
    "from solders.keypair import Keypair\n",
    "from solana.rpc.api import Client\n",
    "\n",
    "\n",
    "\n",
    "# Solana API endpoint\n",
    "url = \"https://solana-mainnet.g.alchemy.com/v2/KgpuMjqocuyieV47x-HcBYGyi8LrIFb8\"\n",
    "\n",
    "# Request payload\n",
    "payload = {\n",
    "    \"jsonrpc\": \"2.0\",\n",
    "    \"id\": 1,\n",
    "    \"method\": \"getAccountInfo\",\n",
    "    \"params\": [\n",
    "        \"8h3eQCUq4sfKraaSGgoQM2wt1kjCYq6BoaAkCrPt3waa\",\n",
    "        {\n",
    "            \"encoding\": \"base58\"\n",
    "        }\n",
    "    ]\n",
    "}\n",
    "\n",
    "# Headers\n",
    "headers = {\n",
    "    \"Content-Type\": \"application/json\"\n",
    "}\n",
    "\n",
    "# Make the POST request\n",
    "response = requests.post(url, headers=headers, data=json.dumps(payload))\n",
    "\n",
    "# Check if the request was successful\n",
    "if response.status_code == 200:\n",
    "    account_info = response.json()\n",
    "    print(json.dumps(account_info, indent=4))  # Pretty-print the JSON response\n",
    "else:\n",
    "    print(f\"Error: {response.status_code}\")\n",
    "    print(response.text)"
   ]
  },
  {
   "cell_type": "code",
   "execution_count": 9,
   "metadata": {},
   "outputs": [
    {
     "name": "stdout",
     "output_type": "stream",
     "text": [
      "{\n",
      "    \"estimation\": {\n",
      "        \"srcChainTokenIn\": {\n",
      "            \"name\": \"USD Coin\",\n",
      "            \"symbol\": \"USDC\",\n",
      "            \"chainId\": 7565164,\n",
      "            \"address\": \"EPjFWdd5AufqSSqeM2qN1xzybapC8G4wEGGkZwyTDt1v\",\n",
      "            \"decimals\": 6,\n",
      "            \"amount\": \"1656560\",\n",
      "            \"approximateOperatingExpense\": \"1154596\",\n",
      "            \"mutatedWithOperatingExpense\": true\n",
      "        },\n",
      "        \"dstChainTokenOut\": {\n",
      "            \"address\": \"0xaf88d065e77c8cc2239327c5edb3a432268e5831\",\n",
      "            \"chainId\": 42161,\n",
      "            \"decimals\": 6,\n",
      "            \"name\": \"USD Coin\",\n",
      "            \"symbol\": \"USDC\",\n",
      "            \"amount\": \"499151\",\n",
      "            \"recommendedAmount\": \"499151\",\n",
      "            \"maxTheoreticalAmount\": \"499151\"\n",
      "        },\n",
      "        \"costsDetails\": [\n",
      "            {\n",
      "                \"chain\": \"7565164\",\n",
      "                \"tokenIn\": \"EPjFWdd5AufqSSqeM2qN1xzybapC8G4wEGGkZwyTDt1v\",\n",
      "                \"tokenOut\": \"EPjFWdd5AufqSSqeM2qN1xzybapC8G4wEGGkZwyTDt1v\",\n",
      "                \"amountIn\": \"1656560\",\n",
      "                \"amountOut\": \"1655898\",\n",
      "                \"type\": \"DlnProtocolFee\",\n",
      "                \"payload\": {\n",
      "                    \"feeAmount\": \"662\",\n",
      "                    \"feeBps\": \"4\"\n",
      "                }\n",
      "            },\n",
      "            {\n",
      "                \"chain\": \"7565164\",\n",
      "                \"tokenIn\": \"EPjFWdd5AufqSSqeM2qN1xzybapC8G4wEGGkZwyTDt1v\",\n",
      "                \"tokenOut\": \"EPjFWdd5AufqSSqeM2qN1xzybapC8G4wEGGkZwyTDt1v\",\n",
      "                \"amountIn\": \"1655898\",\n",
      "                \"amountOut\": \"1654408\",\n",
      "                \"type\": \"AffiliateFee\",\n",
      "                \"payload\": {\n",
      "                    \"feeAmount\": \"1490\",\n",
      "                    \"feeBps\": \"9\"\n",
      "                }\n",
      "            },\n",
      "            {\n",
      "                \"chain\": \"42161\",\n",
      "                \"tokenIn\": \"0xaf88d065e77c8cc2239327c5edb3a432268e5831\",\n",
      "                \"tokenOut\": \"0xaf88d065e77c8cc2239327c5edb3a432268e5831\",\n",
      "                \"amountIn\": \"1654408\",\n",
      "                \"amountOut\": \"1653747\",\n",
      "                \"type\": \"TakerMargin\",\n",
      "                \"payload\": {\n",
      "                    \"feeAmount\": \"661\",\n",
      "                    \"feeBps\": \"4\"\n",
      "                }\n",
      "            },\n",
      "            {\n",
      "                \"chain\": \"42161\",\n",
      "                \"tokenIn\": \"0xaf88d065e77c8cc2239327c5edb3a432268e5831\",\n",
      "                \"tokenOut\": \"0xaf88d065e77c8cc2239327c5edb3a432268e5831\",\n",
      "                \"amountIn\": \"1653747\",\n",
      "                \"amountOut\": \"499151\",\n",
      "                \"type\": \"EstimatedOperatingExpenses\",\n",
      "                \"payload\": {\n",
      "                    \"feeAmount\": \"1154596\"\n",
      "                }\n",
      "            }\n",
      "        ],\n",
      "        \"recommendedSlippage\": 0\n",
      "    },\n",
      "    \"prependedOperatingExpenseCost\": \"1156560\",\n",
      "    \"order\": {\n",
      "        \"approximateFulfillmentDelay\": 9\n",
      "    },\n",
      "    \"fixFee\": \"15000000\",\n",
      "    \"userPoints\": 222.58,\n",
      "    \"integratorPoints\": 55.64\n",
      "}\n"
     ]
    }
   ],
   "source": [
    "\n",
    "\n",
    "def get_quote(src_chain_id, src_chain_token_in, src_chain_token_in_amount, dst_chain_id, dst_chain_token_out, affiliate_fee_percent, prepend_operating_expenses):\n",
    "    url = \"https://api.dln.trade/v1.0/dln/order/quote\"\n",
    "    params = {\n",
    "        \"srcChainId\": src_chain_id,\n",
    "        \"srcChainTokenIn\": src_chain_token_in,\n",
    "        \"srcChainTokenInAmount\": src_chain_token_in_amount,\n",
    "        \"dstChainId\": dst_chain_id,\n",
    "        \"dstChainTokenOut\": dst_chain_token_out,\n",
    "        \"dstChainTokenOutAmount\": \"auto\",\n",
    "        \"affiliateFeePercent\": affiliate_fee_percent,\n",
    "        \"prependOperatingExpenses\": prepend_operating_expenses\n",
    "    }\n",
    "    \n",
    "    response = requests.get(url, params=params)\n",
    "    \n",
    "    if response.status_code == 200:\n",
    "        return response.json()\n",
    "    else:\n",
    "        response.raise_for_status()\n",
    "\n",
    "# Example usage\n",
    "src_chain_id = 7565164  # Arbitrum\n",
    "src_chain_token_in = \"EPjFWdd5AufqSSqeM2qN1xzybapC8G4wEGGkZwyTDt1v\"  # USDC on Arbitrum\n",
    "src_chain_token_in_amount = 500000  # 50 USDC in smallest unit (assuming 6 decimals)\n",
    "dst_chain_id = 42161  # Solana\n",
    "dst_chain_token_out = \"0xaf88d065e77c8cC2239327C5EDb3A432268e5831\"  # USDC on Solana\n",
    "affiliate_fee_percent = 0.0916\n",
    "prepend_operating_expenses = True\n",
    "\n",
    "try:\n",
    "    quote = get_quote(src_chain_id, src_chain_token_in, src_chain_token_in_amount, dst_chain_id, dst_chain_token_out, affiliate_fee_percent, prepend_operating_expenses)\n",
    "    print(json.dumps(quote, indent=4))  # Pretty-print the JSON response\n",
    "except requests.exceptions.RequestException as e:\n",
    "    print(f\"An error occurred: {e}\")\n",
    "\n"
   ]
  },
  {
   "cell_type": "code",
   "execution_count": 9,
   "metadata": {},
   "outputs": [],
   "source": [
    "quotetx = quote.get('tx', {})\n",
    "allow_target = quotetx.get('allowanceTarget')\n",
    "allow_value = quotetx.get('allowanceValue')\n",
    "dstchaintokenout1 = quotetx.get('dstChainTokenOut', {})\n",
    "dstchaintokenout = dstchaintokenout1.get('recommendedAmount')"
   ]
  },
  {
   "cell_type": "code",
   "execution_count": 10,
   "metadata": {},
   "outputs": [
    {
     "name": "stdout",
     "output_type": "stream",
     "text": [
      "An error occurred: 400 Client Error: Bad Request for url: https://api.dln.trade/v1.0/dln/order/create-tx?srcChainId=7565164&srcChainTokenIn=EPjFWdd5AufqSSqeM2qN1xzybapC8G4wEGGkZwyTDt1v&srcChainTokenInAmount=500000&dstChainId=42161&dstChainTokenOut=0xaf88d065e77c8cC2239327C5EDb3A432268e5831&dstChainTokenOutAmount=auto&dstChainTokenOutRecipient=0xef772390c8aDD25302be26Fb92edb7F5dE214480&srcChainOrderAuthorityAddress=8h3eQCUq4sfKraaSGgoQM2wt1kjCYq6BoaAkCrPt3waa&affiliateFeePercent=0.1&affiliateFeeRecipient=0x09fe3a3EA67eD2fEceFa9Af22380e53f0F580614&dstChainOrderAuthorityAddress=0xef772390c8aDD25302be26Fb92edb7F5dE214480&prependOperatingExpenses=False&referralCode=15434\n"
     ]
    }
   ],
   "source": [
    "\n",
    "\n",
    "def create_tx(src_chain_id, src_chain_token_in, src_chain_token_in_amount, dst_chain_id, dst_chain_token_out, dst_chain_token_out_amount, \n",
    "            dst_chain_token_out_recipient, src_chain_order_authority_address, affiliate_fee_percent, affiliate_fee_recipient,\n",
    "            dst_chain_order_authority_address, prepend_operating_expenses, referral_code):\n",
    "    url = \"https://api.dln.trade/v1.0/dln/order/create-tx\"\n",
    "    params = {\n",
    "        \"srcChainId\": src_chain_id,\n",
    "        \"srcChainTokenIn\": src_chain_token_in,\n",
    "        \"srcChainTokenInAmount\": src_chain_token_in_amount,\n",
    "        \"dstChainId\": dst_chain_id,\n",
    "        \"dstChainTokenOut\": dst_chain_token_out,\n",
    "        \"dstChainTokenOutAmount\": dst_chain_token_out_amount,\n",
    "        \"dstChainTokenOutRecipient\": dst_chain_token_out_recipient,\n",
    "        \"srcChainOrderAuthorityAddress\": src_chain_order_authority_address,\n",
    "        \"affiliateFeePercent\": affiliate_fee_percent,\n",
    "        \"affiliateFeeRecipient\": affiliate_fee_recipient,\n",
    "        \"dstChainOrderAuthorityAddress\": dst_chain_order_authority_address,\n",
    "        \"prependOperatingExpenses\": prepend_operating_expenses,\n",
    "        \"referralCode\": referral_code\n",
    "    }\n",
    "    \n",
    "    response = requests.get(url, params=params)\n",
    "    \n",
    "    if response.status_code == 200:\n",
    "        return response.json()\n",
    "    else:\n",
    "        response.raise_for_status()\n",
    "# Example usage\n",
    "src_chain_id = 7565164  # solana\n",
    "src_chain_token_in = \"EPjFWdd5AufqSSqeM2qN1xzybapC8G4wEGGkZwyTDt1v\"  # USDC on solana\n",
    "src_chain_token_in_amount = 500000  # 50 USDC in smallest unit (assuming 6 decimals)\n",
    "dst_chain_id = 42161  # Solana\n",
    "dst_chain_token_out = \"0xaf88d065e77c8cC2239327C5EDb3A432268e5831\"  # USDC on Solana\n",
    "dst_chain_token_out_amount = \"auto\"\n",
    "dst_chain_token_out_recipient = \"0xef772390c8aDD25302be26Fb92edb7F5dE214480\"\n",
    "src_chain_order_authority_address = \"8h3eQCUq4sfKraaSGgoQM2wt1kjCYq6BoaAkCrPt3waa\"\n",
    "affiliate_fee_percent = 0.1\n",
    "affiliate_fee_recipient = \"0x09fe3a3EA67eD2fEceFa9Af22380e53f0F580614\"\n",
    "dst_chain_order_authority_address = \"0xef772390c8aDD25302be26Fb92edb7F5dE214480\"\n",
    "prepend_operating_expenses = False\n",
    "referral_code = \"15434\"\n",
    "\n",
    "try:\n",
    "    tx = create_tx(src_chain_id, src_chain_token_in, src_chain_token_in_amount, dst_chain_id, dst_chain_token_out, dst_chain_token_out_amount, dst_chain_token_out_recipient, src_chain_order_authority_address, affiliate_fee_percent, affiliate_fee_recipient, dst_chain_order_authority_address, prepend_operating_expenses, referral_code)\n",
    "    print(json.dumps(tx, indent=4))  # Pretty-print the JSON response\n",
    "except requests.exceptions.RequestException as e:\n",
    "    print(f\"An error occurred: {e}\")"
   ]
  },
  {
   "cell_type": "code",
   "execution_count": 52,
   "metadata": {},
   "outputs": [],
   "source": [
    "import requests\n",
    "import json\n",
    "from web3 import Web3\n",
    "from eth_account import Account\n",
    "import os\n",
    "\n",
    "# Solana setup\n",
    "solana_client = Client(\"https://solana-mainnet.g.alchemy.com/v2/KgpuMjqocuyieV47x-HcBYGyi8LrIFb8\")\n",
    "private_key = os.getenv('PRIVATE_KEY')\n",
    "\n"
   ]
  },
  {
   "cell_type": "code",
   "execution_count": 8,
   "metadata": {},
   "outputs": [
    {
     "data": {
      "text/plain": [
       "<solana.rpc.api.Client at 0x7ff74c41b5e0>"
      ]
     },
     "execution_count": 8,
     "metadata": {},
     "output_type": "execute_result"
    }
   ],
   "source": [
    "solana_client"
   ]
  },
  {
   "cell_type": "code",
   "execution_count": 2,
   "metadata": {},
   "outputs": [
    {
     "ename": "ValueError",
     "evalue": "The private key must be exactly 32 bytes long.",
     "output_type": "error",
     "traceback": [
      "\u001b[0;31m---------------------------------------------------------------------------\u001b[0m",
      "\u001b[0;31mValueError\u001b[0m                                Traceback (most recent call last)",
      "Cell \u001b[0;32mIn[2], line 26\u001b[0m\n\u001b[1;32m     24\u001b[0m \u001b[38;5;66;03m# Ensure the private key is 32 bytes long\u001b[39;00m\n\u001b[1;32m     25\u001b[0m \u001b[38;5;28;01mif\u001b[39;00m \u001b[38;5;28mlen\u001b[39m(pk_bytes) \u001b[38;5;241m!=\u001b[39m \u001b[38;5;241m32\u001b[39m:\n\u001b[0;32m---> 26\u001b[0m     \u001b[38;5;28;01mraise\u001b[39;00m \u001b[38;5;167;01mValueError\u001b[39;00m(\u001b[38;5;124m\"\u001b[39m\u001b[38;5;124mThe private key must be exactly 32 bytes long.\u001b[39m\u001b[38;5;124m\"\u001b[39m)\n\u001b[1;32m     28\u001b[0m \u001b[38;5;66;03m# Convert the bytes to a hexadecimal string\u001b[39;00m\n\u001b[1;32m     29\u001b[0m pk_hex \u001b[38;5;241m=\u001b[39m pk_bytes\u001b[38;5;241m.\u001b[39mhex()\n",
      "\u001b[0;31mValueError\u001b[0m: The private key must be exactly 32 bytes long."
     ]
    }
   ],
   "source": [
    "from web3 import Web3, AsyncWeb3\n",
    "from solders.message import Message\n",
    "from solders.keypair import Keypair\n",
    "from solders.instruction import Instruction\n",
    "from solders.hash import Hash\n",
    "from solders.transaction import Transaction\n",
    "from solders.pubkey import Pubkey\n",
    "import os\n",
    "from dotenv import load_dotenv\n",
    "import base58\n",
    "\n",
    "# Load environment variables from .env file\n",
    "load_dotenv()\n",
    "\n",
    "# Get the private key from the environment variable\n",
    "pk_base58 = os.getenv('PRIVATE_KEY')\n",
    "\n",
    "if pk_base58 is None:\n",
    "    raise ValueError(\"The private key must be set in the .env file.\")\n",
    "\n",
    "# Decode the base58 private key to bytes\n",
    "pk_bytes = base58.b58decode(pk_base58)\n",
    "\n",
    "# Ensure the private key is 32 bytes long\n",
    "if len(pk_bytes) != 32:\n",
    "    raise ValueError(\"The private key must be exactly 32 bytes long.\")\n",
    "\n",
    "# Convert the bytes to a hexadecimal string\n",
    "pk_hex = pk_bytes.hex()\n",
    "\n",
    "w3 = Web3(Web3.HTTPProvider(\"https://solana-mainnet.g.alchemy.com/v2/KgpuMjqocuyieV47x-HcBYGyi8LrIFb8\"))\n",
    "\n",
    "# Create an account object from the private key\n",
    "account = w3.eth.account.from_key(pk_hex)"
   ]
  },
  {
   "cell_type": "code",
   "execution_count": 25,
   "metadata": {},
   "outputs": [],
   "source": [
    "import solana\n",
    "from solana.rpc.api import Client\n",
    "\n",
    "solclient = Client('https://solana-mainnet.g.alchemy.com/v2/KgpuMjqocuyieV47x-HcBYGyi8LrIFb8')\n",
    "\n"
   ]
  },
  {
   "cell_type": "code",
   "execution_count": 6,
   "metadata": {},
   "outputs": [
    {
     "ename": "TypeError",
     "evalue": "argument 'data': 'int' object cannot be converted to 'PyBytes'",
     "output_type": "error",
     "traceback": [
      "\u001b[0;31m---------------------------------------------------------------------------\u001b[0m",
      "\u001b[0;31mTypeError\u001b[0m                                 Traceback (most recent call last)",
      "Cell \u001b[0;32mIn[6], line 16\u001b[0m\n\u001b[1;32m     13\u001b[0m any_account_meta \u001b[38;5;241m=\u001b[39m AccountMeta(pubkey\u001b[38;5;241m=\u001b[39many_pubkey, is_signer\u001b[38;5;241m=\u001b[39m\u001b[38;5;28;01mFalse\u001b[39;00m, is_writable\u001b[38;5;241m=\u001b[39m\u001b[38;5;28;01mTrue\u001b[39;00m)\n\u001b[1;32m     15\u001b[0m \u001b[38;5;66;03m# Create the Instruction object\u001b[39;00m\n\u001b[0;32m---> 16\u001b[0m instruction \u001b[38;5;241m=\u001b[39m \u001b[43mInstruction\u001b[49m\u001b[43m(\u001b[49m\n\u001b[1;32m     17\u001b[0m \u001b[43m    \u001b[49m\u001b[43mprogram_id\u001b[49m\u001b[38;5;241;43m=\u001b[39;49m\u001b[43mprogram_id\u001b[49m\u001b[43m,\u001b[49m\n\u001b[1;32m     18\u001b[0m \u001b[43m    \u001b[49m\u001b[43maccounts\u001b[49m\u001b[38;5;241;43m=\u001b[39;49m\u001b[43m[\u001b[49m\u001b[43mauth_account_meta\u001b[49m\u001b[43m,\u001b[49m\u001b[43m \u001b[49m\u001b[43many_account_meta\u001b[49m\u001b[43m]\u001b[49m\u001b[43m,\u001b[49m\n\u001b[1;32m     19\u001b[0m \u001b[43m    \u001b[49m\u001b[43mdata\u001b[49m\u001b[38;5;241;43m=\u001b[39;49m\u001b[43m \u001b[49m\u001b[38;5;241;43m0\u001b[39;49m\n\u001b[1;32m     20\u001b[0m \u001b[43m)\u001b[49m\n",
      "\u001b[0;31mTypeError\u001b[0m: argument 'data': 'int' object cannot be converted to 'PyBytes'"
     ]
    }
   ],
   "source": [
    "from solders.keypair import Keypair\n",
    "from solders.pubkey import Pubkey\n",
    "from solders.instruction import Instruction, AccountMeta\n",
    "\n",
    "\n",
    "\n",
    "\n",
    "\n",
    "keypair = Keypair.from_base58_string(os.getenv('PRIVATE_KEY'))\n",
    "# Create the Pubkey objects\n",
    "program_id = Pubkey.from_string(\"ATokenGPvbdGVxr1b2hvZbsiqW5xWH25efTNsLJA8knL\")\n",
    "auth_pubkey = Pubkey.from_string(\"2iBUASRfDHgEkuZ91Lvos5NxwnmiryHrNbWBfEVqHRQZ\")\n",
    "any_pubkey = Pubkey.from_string(\"BicJ4dmuWD3bfBrJyKKeqzczWDSGUepUpaKWmC6XRoJZ\")\n",
    "\n",
    "# Create the AccountMeta objects\n",
    "auth_account_meta = AccountMeta(pubkey=auth_pubkey, is_signer=True, is_writable=True)\n",
    "any_account_meta = AccountMeta(pubkey=any_pubkey, is_signer=False, is_writable=True)\n",
    "\n",
    "# Create the Instruction object\n",
    "instruction = Instruction(\n",
    "    program_id=program_id,\n",
    "    accounts=[auth_account_meta, any_account_meta],\n",
    "    data= 0\n",
    ")"
   ]
  },
  {
   "cell_type": "code",
   "execution_count": 38,
   "metadata": {},
   "outputs": [],
   "source": [
    "from solders.message import Message\n",
    "from solders.transaction import Transaction\n",
    "from solders.hash import Hash\n",
    "from solders.instruction import Instruction\n",
    "from solders.pubkey import Pubkey"
   ]
  },
  {
   "cell_type": "code",
   "execution_count": 40,
   "metadata": {},
   "outputs": [],
   "source": [
    "program_id = Pubkey.default()\n",
    "arbitrary_instruction_data = bytes([1])\n",
    "accounts = []\n",
    "instruction = Instruction(program_id, arbitrary_instruction_data, accounts)\n",
    "payer = Keypair()\n",
    "message = Message([instruction], payer.pubkey())\n",
    "blockhash = Hash.default()\n",
    "tx = Transaction([payer], message, blockhash)"
   ]
  },
  {
   "cell_type": "code",
   "execution_count": 41,
   "metadata": {},
   "outputs": [
    {
     "data": {
      "text/plain": [
       "[]"
      ]
     },
     "execution_count": 41,
     "metadata": {},
     "output_type": "execute_result"
    }
   ],
   "source": [
    "account"
   ]
  },
  {
   "cell_type": "code",
   "execution_count": null,
   "metadata": {},
   "outputs": [],
   "source": []
  },
  {
   "cell_type": "code",
   "execution_count": null,
   "metadata": {},
   "outputs": [],
   "source": []
  },
  {
   "cell_type": "code",
   "execution_count": null,
   "metadata": {},
   "outputs": [],
   "source": []
  },
  {
   "cell_type": "code",
   "execution_count": 33,
   "metadata": {},
   "outputs": [
    {
     "ename": "TypeError",
     "evalue": "argument 'pubkey': 'str' object cannot be converted to 'Pubkey'",
     "output_type": "error",
     "traceback": [
      "\u001b[0;31m---------------------------------------------------------------------------\u001b[0m",
      "\u001b[0;31mTypeError\u001b[0m                                 Traceback (most recent call last)",
      "Cell \u001b[0;32mIn[33], line 1\u001b[0m\n\u001b[0;32m----> 1\u001b[0m \u001b[43msolclient\u001b[49m\u001b[38;5;241;43m.\u001b[39;49m\u001b[43mget_account_info\u001b[49m\u001b[43m(\u001b[49m\u001b[38;5;124;43m'\u001b[39;49m\u001b[38;5;124;43m8h3eQCUq4sfKraaSGgoQM2wt1kjCYq6BoaAkCrPt3waa\u001b[39;49m\u001b[38;5;124;43m'\u001b[39;49m\u001b[43m)\u001b[49m\n",
      "File \u001b[0;32m~/lil/lib/python3.10/site-packages/solana/rpc/api.py:165\u001b[0m, in \u001b[0;36mClient.get_account_info\u001b[0;34m(self, pubkey, commitment, encoding, data_slice)\u001b[0m\n\u001b[1;32m    131\u001b[0m \u001b[38;5;28;01mdef\u001b[39;00m \u001b[38;5;21mget_account_info\u001b[39m(\n\u001b[1;32m    132\u001b[0m     \u001b[38;5;28mself\u001b[39m,\n\u001b[1;32m    133\u001b[0m     pubkey: Pubkey,\n\u001b[0;32m   (...)\u001b[0m\n\u001b[1;32m    136\u001b[0m     data_slice: Optional[types\u001b[38;5;241m.\u001b[39mDataSliceOpts] \u001b[38;5;241m=\u001b[39m \u001b[38;5;28;01mNone\u001b[39;00m,\n\u001b[1;32m    137\u001b[0m ) \u001b[38;5;241m-\u001b[39m\u001b[38;5;241m>\u001b[39m GetAccountInfoResp:\n\u001b[1;32m    138\u001b[0m \u001b[38;5;250m    \u001b[39m\u001b[38;5;124;03m\"\"\"Returns all the account info for the specified public key, encoded in either base58 or base64.\u001b[39;00m\n\u001b[1;32m    139\u001b[0m \n\u001b[1;32m    140\u001b[0m \u001b[38;5;124;03m    Args:\u001b[39;00m\n\u001b[0;32m   (...)\u001b[0m\n\u001b[1;32m    163\u001b[0m \u001b[38;5;124;03m        )\u001b[39;00m\n\u001b[1;32m    164\u001b[0m \u001b[38;5;124;03m    \"\"\"\u001b[39;00m\n\u001b[0;32m--> 165\u001b[0m     body \u001b[38;5;241m=\u001b[39m \u001b[38;5;28;43mself\u001b[39;49m\u001b[38;5;241;43m.\u001b[39;49m\u001b[43m_get_account_info_body\u001b[49m\u001b[43m(\u001b[49m\n\u001b[1;32m    166\u001b[0m \u001b[43m        \u001b[49m\u001b[43mpubkey\u001b[49m\u001b[38;5;241;43m=\u001b[39;49m\u001b[43mpubkey\u001b[49m\u001b[43m,\u001b[49m\n\u001b[1;32m    167\u001b[0m \u001b[43m        \u001b[49m\u001b[43mcommitment\u001b[49m\u001b[38;5;241;43m=\u001b[39;49m\u001b[43mcommitment\u001b[49m\u001b[43m,\u001b[49m\n\u001b[1;32m    168\u001b[0m \u001b[43m        \u001b[49m\u001b[43mencoding\u001b[49m\u001b[38;5;241;43m=\u001b[39;49m\u001b[43mencoding\u001b[49m\u001b[43m,\u001b[49m\n\u001b[1;32m    169\u001b[0m \u001b[43m        \u001b[49m\u001b[43mdata_slice\u001b[49m\u001b[38;5;241;43m=\u001b[39;49m\u001b[43mdata_slice\u001b[49m\u001b[43m,\u001b[49m\n\u001b[1;32m    170\u001b[0m \u001b[43m    \u001b[49m\u001b[43m)\u001b[49m\n\u001b[1;32m    171\u001b[0m     \u001b[38;5;28;01mreturn\u001b[39;00m \u001b[38;5;28mself\u001b[39m\u001b[38;5;241m.\u001b[39m_provider\u001b[38;5;241m.\u001b[39mmake_request(body, GetAccountInfoResp)\n",
      "File \u001b[0;32m~/lil/lib/python3.10/site-packages/solana/rpc/core.py:181\u001b[0m, in \u001b[0;36m_ClientCore._get_account_info_body\u001b[0;34m(self, pubkey, commitment, encoding, data_slice)\u001b[0m\n\u001b[1;32m    175\u001b[0m commitment_to_use \u001b[38;5;241m=\u001b[39m _COMMITMENT_TO_SOLDERS[commitment \u001b[38;5;129;01mor\u001b[39;00m \u001b[38;5;28mself\u001b[39m\u001b[38;5;241m.\u001b[39m_commitment]\n\u001b[1;32m    176\u001b[0m config \u001b[38;5;241m=\u001b[39m RpcAccountInfoConfig(\n\u001b[1;32m    177\u001b[0m     encoding\u001b[38;5;241m=\u001b[39mencoding_to_use,\n\u001b[1;32m    178\u001b[0m     data_slice\u001b[38;5;241m=\u001b[39mdata_slice_to_use,\n\u001b[1;32m    179\u001b[0m     commitment\u001b[38;5;241m=\u001b[39mcommitment_to_use,\n\u001b[1;32m    180\u001b[0m )\n\u001b[0;32m--> 181\u001b[0m \u001b[38;5;28;01mreturn\u001b[39;00m \u001b[43mGetAccountInfo\u001b[49m\u001b[43m(\u001b[49m\u001b[43mpubkey\u001b[49m\u001b[43m,\u001b[49m\u001b[43m \u001b[49m\u001b[43mconfig\u001b[49m\u001b[43m)\u001b[49m\n",
      "\u001b[0;31mTypeError\u001b[0m: argument 'pubkey': 'str' object cannot be converted to 'Pubkey'"
     ]
    }
   ],
   "source": [
    "solclient.get_account_info('8h3eQCUq4sfKraaSGgoQM2wt1kjCYq6BoaAkCrPt3waa')"
   ]
  },
  {
   "cell_type": "code",
   "execution_count": 24,
   "metadata": {},
   "outputs": [
    {
     "ename": "HTTPError",
     "evalue": "400 Client Error: Bad Request for url: https://solana-mainnet.g.alchemy.com/v2/KgpuMjqocuyieV47x-HcBYGyi8LrIFb8",
     "output_type": "error",
     "traceback": [
      "\u001b[0;31m---------------------------------------------------------------------------\u001b[0m",
      "\u001b[0;31mHTTPError\u001b[0m                                 Traceback (most recent call last)",
      "Cell \u001b[0;32mIn[24], line 18\u001b[0m\n\u001b[1;32m     15\u001b[0m SRC_CHAIN_TOKEN_IN_ADDRESS \u001b[38;5;241m=\u001b[39m \u001b[38;5;124m\"\u001b[39m\u001b[38;5;124m0xaf88d065e77c8cC2239327C5EDb3A432268e5831\u001b[39m\u001b[38;5;124m\"\u001b[39m  \u001b[38;5;66;03m# USDC on Arbitrum\u001b[39;00m\n\u001b[1;32m     17\u001b[0m \u001b[38;5;66;03m# Create contract instances\u001b[39;00m\n\u001b[0;32m---> 18\u001b[0m dln_source_contract \u001b[38;5;241m=\u001b[39m \u001b[43mw3\u001b[49m\u001b[38;5;241;43m.\u001b[39;49m\u001b[43meth\u001b[49m\u001b[38;5;241;43m.\u001b[39;49m\u001b[43mcontract\u001b[49m\u001b[43m(\u001b[49m\u001b[43maddress\u001b[49m\u001b[38;5;241;43m=\u001b[39;49m\u001b[43mDLN_SOURCE_ADDRESS\u001b[49m\u001b[43m,\u001b[49m\u001b[43m \u001b[49m\u001b[43mabi\u001b[49m\u001b[38;5;241;43m=\u001b[39;49m\u001b[43mdln_source_abi\u001b[49m\u001b[43m)\u001b[49m\n",
      "File \u001b[0;32m~/lil/lib/python3.10/site-packages/web3/eth/eth.py:691\u001b[0m, in \u001b[0;36mEth.contract\u001b[0;34m(self, address, **kwargs)\u001b[0m\n\u001b[1;32m    688\u001b[0m ContractFactory \u001b[38;5;241m=\u001b[39m ContractFactoryClass\u001b[38;5;241m.\u001b[39mfactory(\u001b[38;5;28mself\u001b[39m\u001b[38;5;241m.\u001b[39mw3, \u001b[38;5;241m*\u001b[39m\u001b[38;5;241m*\u001b[39mkwargs)\n\u001b[1;32m    690\u001b[0m \u001b[38;5;28;01mif\u001b[39;00m address:\n\u001b[0;32m--> 691\u001b[0m     \u001b[38;5;28;01mreturn\u001b[39;00m \u001b[43mContractFactory\u001b[49m\u001b[43m(\u001b[49m\u001b[43maddress\u001b[49m\u001b[43m)\u001b[49m\n\u001b[1;32m    692\u001b[0m \u001b[38;5;28;01melse\u001b[39;00m:\n\u001b[1;32m    693\u001b[0m     \u001b[38;5;28;01mreturn\u001b[39;00m ContractFactory\n",
      "File \u001b[0;32m~/lil/lib/python3.10/site-packages/web3/contract/contract.py:449\u001b[0m, in \u001b[0;36mContract.__init__\u001b[0;34m(self, address)\u001b[0m\n\u001b[1;32m    443\u001b[0m     \u001b[38;5;28;01mraise\u001b[39;00m \u001b[38;5;167;01mAttributeError\u001b[39;00m(\n\u001b[1;32m    444\u001b[0m         \u001b[38;5;124m\"\u001b[39m\u001b[38;5;124mThe `Contract` class has not been initialized.  Please use the \u001b[39m\u001b[38;5;124m\"\u001b[39m\n\u001b[1;32m    445\u001b[0m         \u001b[38;5;124m\"\u001b[39m\u001b[38;5;124m`web3.contract` interface to create your contract class.\u001b[39m\u001b[38;5;124m\"\u001b[39m\n\u001b[1;32m    446\u001b[0m     )\n\u001b[1;32m    448\u001b[0m \u001b[38;5;28;01mif\u001b[39;00m address:\n\u001b[0;32m--> 449\u001b[0m     \u001b[38;5;28mself\u001b[39m\u001b[38;5;241m.\u001b[39maddress \u001b[38;5;241m=\u001b[39m \u001b[43mnormalize_address\u001b[49m\u001b[43m(\u001b[49m\u001b[43mcast\u001b[49m\u001b[43m(\u001b[49m\u001b[38;5;124;43m\"\u001b[39;49m\u001b[38;5;124;43mENS\u001b[39;49m\u001b[38;5;124;43m\"\u001b[39;49m\u001b[43m,\u001b[49m\u001b[43m \u001b[49m\u001b[43m_w3\u001b[49m\u001b[38;5;241;43m.\u001b[39;49m\u001b[43mens\u001b[49m\u001b[43m)\u001b[49m\u001b[43m,\u001b[49m\u001b[43m \u001b[49m\u001b[43maddress\u001b[49m\u001b[43m)\u001b[49m\n\u001b[1;32m    451\u001b[0m \u001b[38;5;28;01mif\u001b[39;00m \u001b[38;5;129;01mnot\u001b[39;00m \u001b[38;5;28mself\u001b[39m\u001b[38;5;241m.\u001b[39maddress:\n\u001b[1;32m    452\u001b[0m     \u001b[38;5;28;01mraise\u001b[39;00m \u001b[38;5;167;01mTypeError\u001b[39;00m(\n\u001b[1;32m    453\u001b[0m         \u001b[38;5;124m\"\u001b[39m\u001b[38;5;124mThe address argument is required to instantiate a contract.\u001b[39m\u001b[38;5;124m\"\u001b[39m\n\u001b[1;32m    454\u001b[0m     )\n",
      "File \u001b[0;32m~/lil/lib/python3.10/site-packages/web3/_utils/normalizers.py:261\u001b[0m, in \u001b[0;36mnormalize_address\u001b[0;34m(ens, address)\u001b[0m\n\u001b[1;32m    259\u001b[0m \u001b[38;5;28;01mif\u001b[39;00m address:\n\u001b[1;32m    260\u001b[0m     \u001b[38;5;28;01mif\u001b[39;00m is_ens_name(address):\n\u001b[0;32m--> 261\u001b[0m         \u001b[43mvalidate_name_has_address\u001b[49m\u001b[43m(\u001b[49m\u001b[43mens\u001b[49m\u001b[43m,\u001b[49m\u001b[43m \u001b[49m\u001b[43maddress\u001b[49m\u001b[43m)\u001b[49m\n\u001b[1;32m    262\u001b[0m     \u001b[38;5;28;01melse\u001b[39;00m:\n\u001b[1;32m    263\u001b[0m         validate_address(address)\n",
      "File \u001b[0;32m~/lil/lib/python3.10/site-packages/web3/_utils/ens.py:52\u001b[0m, in \u001b[0;36mvalidate_name_has_address\u001b[0;34m(ens, name)\u001b[0m\n\u001b[1;32m     51\u001b[0m \u001b[38;5;28;01mdef\u001b[39;00m \u001b[38;5;21mvalidate_name_has_address\u001b[39m(ens: ENS, name: \u001b[38;5;28mstr\u001b[39m) \u001b[38;5;241m-\u001b[39m\u001b[38;5;241m>\u001b[39m ChecksumAddress:\n\u001b[0;32m---> 52\u001b[0m     addr \u001b[38;5;241m=\u001b[39m \u001b[43mens\u001b[49m\u001b[38;5;241;43m.\u001b[39;49m\u001b[43maddress\u001b[49m\u001b[43m(\u001b[49m\u001b[43mname\u001b[49m\u001b[43m)\u001b[49m\n\u001b[1;32m     53\u001b[0m     \u001b[38;5;28;01mif\u001b[39;00m addr:\n\u001b[1;32m     54\u001b[0m         \u001b[38;5;28;01mreturn\u001b[39;00m addr\n",
      "File \u001b[0;32m~/lil/lib/python3.10/site-packages/ens/ens.py:153\u001b[0m, in \u001b[0;36mENS.address\u001b[0;34m(self, name, coin_type)\u001b[0m\n\u001b[1;32m    138\u001b[0m \u001b[38;5;28;01mdef\u001b[39;00m \u001b[38;5;21maddress\u001b[39m(\n\u001b[1;32m    139\u001b[0m     \u001b[38;5;28mself\u001b[39m,\n\u001b[1;32m    140\u001b[0m     name: \u001b[38;5;28mstr\u001b[39m,\n\u001b[1;32m    141\u001b[0m     coin_type: Optional[\u001b[38;5;28mint\u001b[39m] \u001b[38;5;241m=\u001b[39m \u001b[38;5;28;01mNone\u001b[39;00m,\n\u001b[1;32m    142\u001b[0m ) \u001b[38;5;241m-\u001b[39m\u001b[38;5;241m>\u001b[39m Optional[ChecksumAddress]:\n\u001b[1;32m    143\u001b[0m \u001b[38;5;250m    \u001b[39m\u001b[38;5;124;03m\"\"\"\u001b[39;00m\n\u001b[1;32m    144\u001b[0m \u001b[38;5;124;03m    Look up the Ethereum address that `name` currently points to.\u001b[39;00m\n\u001b[1;32m    145\u001b[0m \n\u001b[0;32m   (...)\u001b[0m\n\u001b[1;32m    151\u001b[0m \u001b[38;5;124;03m            function\u001b[39;00m\n\u001b[1;32m    152\u001b[0m \u001b[38;5;124;03m    \"\"\"\u001b[39;00m\n\u001b[0;32m--> 153\u001b[0m     r \u001b[38;5;241m=\u001b[39m \u001b[38;5;28;43mself\u001b[39;49m\u001b[38;5;241;43m.\u001b[39;49m\u001b[43mresolver\u001b[49m\u001b[43m(\u001b[49m\u001b[43mname\u001b[49m\u001b[43m)\u001b[49m\n\u001b[1;32m    154\u001b[0m     \u001b[38;5;28;01mif\u001b[39;00m coin_type \u001b[38;5;129;01mis\u001b[39;00m \u001b[38;5;28;01mNone\u001b[39;00m:\n\u001b[1;32m    155\u001b[0m         \u001b[38;5;66;03m# don't validate `addr(bytes32)` interface id since extended resolvers\u001b[39;00m\n\u001b[1;32m    156\u001b[0m         \u001b[38;5;66;03m# can implement a \"resolve\" function as of ENSIP-10\u001b[39;00m\n\u001b[1;32m    157\u001b[0m         \u001b[38;5;28;01mreturn\u001b[39;00m cast(ChecksumAddress, \u001b[38;5;28mself\u001b[39m\u001b[38;5;241m.\u001b[39m_resolve(name, \u001b[38;5;124m\"\u001b[39m\u001b[38;5;124maddr\u001b[39m\u001b[38;5;124m\"\u001b[39m))\n",
      "File \u001b[0;32m~/lil/lib/python3.10/site-packages/ens/ens.py:365\u001b[0m, in \u001b[0;36mENS.resolver\u001b[0;34m(self, name)\u001b[0m\n\u001b[1;32m    359\u001b[0m \u001b[38;5;250m\u001b[39m\u001b[38;5;124;03m\"\"\"\u001b[39;00m\n\u001b[1;32m    360\u001b[0m \u001b[38;5;124;03mGet the resolver for an ENS name.\u001b[39;00m\n\u001b[1;32m    361\u001b[0m \n\u001b[1;32m    362\u001b[0m \u001b[38;5;124;03m:param str name: The ENS name\u001b[39;00m\n\u001b[1;32m    363\u001b[0m \u001b[38;5;124;03m\"\"\"\u001b[39;00m\n\u001b[1;32m    364\u001b[0m normal_name \u001b[38;5;241m=\u001b[39m normalize_name(name)\n\u001b[0;32m--> 365\u001b[0m \u001b[38;5;28;01mreturn\u001b[39;00m \u001b[38;5;28;43mself\u001b[39;49m\u001b[38;5;241;43m.\u001b[39;49m\u001b[43m_get_resolver\u001b[49m\u001b[43m(\u001b[49m\u001b[43mnormal_name\u001b[49m\u001b[43m)\u001b[49m[\u001b[38;5;241m0\u001b[39m]\n",
      "File \u001b[0;32m~/lil/lib/python3.10/site-packages/ens/ens.py:437\u001b[0m, in \u001b[0;36mENS._get_resolver\u001b[0;34m(self, normal_name, fn_name)\u001b[0m\n\u001b[1;32m    432\u001b[0m \u001b[38;5;28;01mif\u001b[39;00m is_empty_name(current_name):\n\u001b[1;32m    433\u001b[0m     \u001b[38;5;66;03m# if no resolver found across all iterations, current_name\u001b[39;00m\n\u001b[1;32m    434\u001b[0m     \u001b[38;5;66;03m# will eventually be the empty string '' which returns here\u001b[39;00m\n\u001b[1;32m    435\u001b[0m     \u001b[38;5;28;01mreturn\u001b[39;00m \u001b[38;5;28;01mNone\u001b[39;00m, current_name\n\u001b[0;32m--> 437\u001b[0m resolver_addr \u001b[38;5;241m=\u001b[39m \u001b[38;5;28;43mself\u001b[39;49m\u001b[38;5;241;43m.\u001b[39;49m\u001b[43mens\u001b[49m\u001b[38;5;241;43m.\u001b[39;49m\u001b[43mcaller\u001b[49m\u001b[38;5;241;43m.\u001b[39;49m\u001b[43mresolver\u001b[49m\u001b[43m(\u001b[49m\u001b[43mnormal_name_to_hash\u001b[49m\u001b[43m(\u001b[49m\u001b[43mcurrent_name\u001b[49m\u001b[43m)\u001b[49m\u001b[43m)\u001b[49m\n\u001b[1;32m    438\u001b[0m \u001b[38;5;28;01mif\u001b[39;00m \u001b[38;5;129;01mnot\u001b[39;00m is_none_or_zero_address(resolver_addr):\n\u001b[1;32m    439\u001b[0m     \u001b[38;5;66;03m# if resolver found, return it\u001b[39;00m\n\u001b[1;32m    440\u001b[0m     resolver \u001b[38;5;241m=\u001b[39m cast(\n\u001b[1;32m    441\u001b[0m         \u001b[38;5;124m\"\u001b[39m\u001b[38;5;124mContract\u001b[39m\u001b[38;5;124m\"\u001b[39m, \u001b[38;5;28mself\u001b[39m\u001b[38;5;241m.\u001b[39m_type_aware_resolver(resolver_addr, fn_name)\n\u001b[1;32m    442\u001b[0m     )\n",
      "File \u001b[0;32m~/lil/lib/python3.10/site-packages/web3/contract/base_contract.py:1051\u001b[0m, in \u001b[0;36mBaseContractCaller.call_function\u001b[0;34m(fn, transaction, block_identifier, ccip_read_enabled, *args, **kwargs)\u001b[0m\n\u001b[1;32m   1049\u001b[0m \u001b[38;5;28;01mif\u001b[39;00m transaction \u001b[38;5;129;01mis\u001b[39;00m \u001b[38;5;28;01mNone\u001b[39;00m:\n\u001b[1;32m   1050\u001b[0m     transaction \u001b[38;5;241m=\u001b[39m {}\n\u001b[0;32m-> 1051\u001b[0m \u001b[38;5;28;01mreturn\u001b[39;00m \u001b[43mfn\u001b[49m\u001b[43m(\u001b[49m\u001b[38;5;241;43m*\u001b[39;49m\u001b[43margs\u001b[49m\u001b[43m,\u001b[49m\u001b[43m \u001b[49m\u001b[38;5;241;43m*\u001b[39;49m\u001b[38;5;241;43m*\u001b[39;49m\u001b[43mkwargs\u001b[49m\u001b[43m)\u001b[49m\u001b[38;5;241;43m.\u001b[39;49m\u001b[43mcall\u001b[49m\u001b[43m(\u001b[49m\n\u001b[1;32m   1052\u001b[0m \u001b[43m    \u001b[49m\u001b[43mtransaction\u001b[49m\u001b[38;5;241;43m=\u001b[39;49m\u001b[43mtransaction\u001b[49m\u001b[43m,\u001b[49m\n\u001b[1;32m   1053\u001b[0m \u001b[43m    \u001b[49m\u001b[43mblock_identifier\u001b[49m\u001b[38;5;241;43m=\u001b[39;49m\u001b[43mblock_identifier\u001b[49m\u001b[43m,\u001b[49m\n\u001b[1;32m   1054\u001b[0m \u001b[43m    \u001b[49m\u001b[43mccip_read_enabled\u001b[49m\u001b[38;5;241;43m=\u001b[39;49m\u001b[43mccip_read_enabled\u001b[49m\u001b[43m,\u001b[49m\n\u001b[1;32m   1055\u001b[0m \u001b[43m\u001b[49m\u001b[43m)\u001b[49m\n",
      "File \u001b[0;32m~/lil/lib/python3.10/site-packages/web3/contract/contract.py:305\u001b[0m, in \u001b[0;36mContractFunction.call\u001b[0;34m(self, transaction, block_identifier, state_override, ccip_read_enabled)\u001b[0m\n\u001b[1;32m    301\u001b[0m call_transaction \u001b[38;5;241m=\u001b[39m \u001b[38;5;28mself\u001b[39m\u001b[38;5;241m.\u001b[39m_get_call_txparams(transaction)\n\u001b[1;32m    303\u001b[0m block_id \u001b[38;5;241m=\u001b[39m parse_block_identifier(\u001b[38;5;28mself\u001b[39m\u001b[38;5;241m.\u001b[39mw3, block_identifier)\n\u001b[0;32m--> 305\u001b[0m \u001b[38;5;28;01mreturn\u001b[39;00m \u001b[43mcall_contract_function\u001b[49m\u001b[43m(\u001b[49m\n\u001b[1;32m    306\u001b[0m \u001b[43m    \u001b[49m\u001b[38;5;28;43mself\u001b[39;49m\u001b[38;5;241;43m.\u001b[39;49m\u001b[43mw3\u001b[49m\u001b[43m,\u001b[49m\n\u001b[1;32m    307\u001b[0m \u001b[43m    \u001b[49m\u001b[38;5;28;43mself\u001b[39;49m\u001b[38;5;241;43m.\u001b[39;49m\u001b[43maddress\u001b[49m\u001b[43m,\u001b[49m\n\u001b[1;32m    308\u001b[0m \u001b[43m    \u001b[49m\u001b[38;5;28;43mself\u001b[39;49m\u001b[38;5;241;43m.\u001b[39;49m\u001b[43m_return_data_normalizers\u001b[49m\u001b[43m,\u001b[49m\n\u001b[1;32m    309\u001b[0m \u001b[43m    \u001b[49m\u001b[38;5;28;43mself\u001b[39;49m\u001b[38;5;241;43m.\u001b[39;49m\u001b[43mfunction_identifier\u001b[49m\u001b[43m,\u001b[49m\n\u001b[1;32m    310\u001b[0m \u001b[43m    \u001b[49m\u001b[43mcall_transaction\u001b[49m\u001b[43m,\u001b[49m\n\u001b[1;32m    311\u001b[0m \u001b[43m    \u001b[49m\u001b[43mblock_id\u001b[49m\u001b[43m,\u001b[49m\n\u001b[1;32m    312\u001b[0m \u001b[43m    \u001b[49m\u001b[38;5;28;43mself\u001b[39;49m\u001b[38;5;241;43m.\u001b[39;49m\u001b[43mcontract_abi\u001b[49m\u001b[43m,\u001b[49m\n\u001b[1;32m    313\u001b[0m \u001b[43m    \u001b[49m\u001b[38;5;28;43mself\u001b[39;49m\u001b[38;5;241;43m.\u001b[39;49m\u001b[43mabi\u001b[49m\u001b[43m,\u001b[49m\n\u001b[1;32m    314\u001b[0m \u001b[43m    \u001b[49m\u001b[43mstate_override\u001b[49m\u001b[43m,\u001b[49m\n\u001b[1;32m    315\u001b[0m \u001b[43m    \u001b[49m\u001b[43mccip_read_enabled\u001b[49m\u001b[43m,\u001b[49m\n\u001b[1;32m    316\u001b[0m \u001b[43m    \u001b[49m\u001b[38;5;28;43mself\u001b[39;49m\u001b[38;5;241;43m.\u001b[39;49m\u001b[43mdecode_tuples\u001b[49m\u001b[43m,\u001b[49m\n\u001b[1;32m    317\u001b[0m \u001b[43m    \u001b[49m\u001b[38;5;241;43m*\u001b[39;49m\u001b[38;5;28;43mself\u001b[39;49m\u001b[38;5;241;43m.\u001b[39;49m\u001b[43margs\u001b[49m\u001b[43m,\u001b[49m\n\u001b[1;32m    318\u001b[0m \u001b[43m    \u001b[49m\u001b[38;5;241;43m*\u001b[39;49m\u001b[38;5;241;43m*\u001b[39;49m\u001b[38;5;28;43mself\u001b[39;49m\u001b[38;5;241;43m.\u001b[39;49m\u001b[43mkwargs\u001b[49m\u001b[43m,\u001b[49m\n\u001b[1;32m    319\u001b[0m \u001b[43m\u001b[49m\u001b[43m)\u001b[49m\n",
      "File \u001b[0;32m~/lil/lib/python3.10/site-packages/web3/contract/utils.py:96\u001b[0m, in \u001b[0;36mcall_contract_function\u001b[0;34m(w3, address, normalizers, function_identifier, transaction, block_id, contract_abi, fn_abi, state_override, ccip_read_enabled, decode_tuples, *args, **kwargs)\u001b[0m\n\u001b[1;32m     81\u001b[0m \u001b[38;5;250m\u001b[39m\u001b[38;5;124;03m\"\"\"\u001b[39;00m\n\u001b[1;32m     82\u001b[0m \u001b[38;5;124;03mHelper function for interacting with a contract function using the\u001b[39;00m\n\u001b[1;32m     83\u001b[0m \u001b[38;5;124;03m`eth_call` API.\u001b[39;00m\n\u001b[1;32m     84\u001b[0m \u001b[38;5;124;03m\"\"\"\u001b[39;00m\n\u001b[1;32m     85\u001b[0m call_transaction \u001b[38;5;241m=\u001b[39m prepare_transaction(\n\u001b[1;32m     86\u001b[0m     address,\n\u001b[1;32m     87\u001b[0m     w3,\n\u001b[0;32m   (...)\u001b[0m\n\u001b[1;32m     93\u001b[0m     fn_kwargs\u001b[38;5;241m=\u001b[39mkwargs,\n\u001b[1;32m     94\u001b[0m )\n\u001b[0;32m---> 96\u001b[0m return_data \u001b[38;5;241m=\u001b[39m \u001b[43mw3\u001b[49m\u001b[38;5;241;43m.\u001b[39;49m\u001b[43meth\u001b[49m\u001b[38;5;241;43m.\u001b[39;49m\u001b[43mcall\u001b[49m\u001b[43m(\u001b[49m\n\u001b[1;32m     97\u001b[0m \u001b[43m    \u001b[49m\u001b[43mcall_transaction\u001b[49m\u001b[43m,\u001b[49m\n\u001b[1;32m     98\u001b[0m \u001b[43m    \u001b[49m\u001b[43mblock_identifier\u001b[49m\u001b[38;5;241;43m=\u001b[39;49m\u001b[43mblock_id\u001b[49m\u001b[43m,\u001b[49m\n\u001b[1;32m     99\u001b[0m \u001b[43m    \u001b[49m\u001b[43mstate_override\u001b[49m\u001b[38;5;241;43m=\u001b[39;49m\u001b[43mstate_override\u001b[49m\u001b[43m,\u001b[49m\n\u001b[1;32m    100\u001b[0m \u001b[43m    \u001b[49m\u001b[43mccip_read_enabled\u001b[49m\u001b[38;5;241;43m=\u001b[39;49m\u001b[43mccip_read_enabled\u001b[49m\u001b[43m,\u001b[49m\n\u001b[1;32m    101\u001b[0m \u001b[43m\u001b[49m\u001b[43m)\u001b[49m\n\u001b[1;32m    103\u001b[0m \u001b[38;5;28;01mif\u001b[39;00m fn_abi \u001b[38;5;129;01mis\u001b[39;00m \u001b[38;5;28;01mNone\u001b[39;00m:\n\u001b[1;32m    104\u001b[0m     fn_abi \u001b[38;5;241m=\u001b[39m find_matching_fn_abi(\n\u001b[1;32m    105\u001b[0m         contract_abi, w3\u001b[38;5;241m.\u001b[39mcodec, function_identifier, args, kwargs\n\u001b[1;32m    106\u001b[0m     )\n",
      "File \u001b[0;32m~/lil/lib/python3.10/site-packages/web3/eth/eth.py:260\u001b[0m, in \u001b[0;36mEth.call\u001b[0;34m(self, transaction, block_identifier, state_override, ccip_read_enabled)\u001b[0m\n\u001b[1;32m    250\u001b[0m ccip_read_enabled_on_provider \u001b[38;5;241m=\u001b[39m \u001b[38;5;28mself\u001b[39m\u001b[38;5;241m.\u001b[39mw3\u001b[38;5;241m.\u001b[39mprovider\u001b[38;5;241m.\u001b[39mglobal_ccip_read_enabled\n\u001b[1;32m    251\u001b[0m \u001b[38;5;28;01mif\u001b[39;00m (\n\u001b[1;32m    252\u001b[0m     \u001b[38;5;66;03m# default conditions:\u001b[39;00m\n\u001b[1;32m    253\u001b[0m     ccip_read_enabled_on_provider\n\u001b[0;32m   (...)\u001b[0m\n\u001b[1;32m    258\u001b[0m     \u001b[38;5;129;01mand\u001b[39;00m ccip_read_enabled \u001b[38;5;129;01mis\u001b[39;00m \u001b[38;5;28;01mTrue\u001b[39;00m\n\u001b[1;32m    259\u001b[0m ):\n\u001b[0;32m--> 260\u001b[0m     \u001b[38;5;28;01mreturn\u001b[39;00m \u001b[38;5;28;43mself\u001b[39;49m\u001b[38;5;241;43m.\u001b[39;49m\u001b[43m_durin_call\u001b[49m\u001b[43m(\u001b[49m\u001b[43mtransaction\u001b[49m\u001b[43m,\u001b[49m\u001b[43m \u001b[49m\u001b[43mblock_identifier\u001b[49m\u001b[43m,\u001b[49m\u001b[43m \u001b[49m\u001b[43mstate_override\u001b[49m\u001b[43m)\u001b[49m\n\u001b[1;32m    262\u001b[0m \u001b[38;5;28;01mreturn\u001b[39;00m \u001b[38;5;28mself\u001b[39m\u001b[38;5;241m.\u001b[39m_call(transaction, block_identifier, state_override)\n",
      "File \u001b[0;32m~/lil/lib/python3.10/site-packages/web3/eth/eth.py:279\u001b[0m, in \u001b[0;36mEth._durin_call\u001b[0;34m(self, transaction, block_identifier, state_override)\u001b[0m\n\u001b[1;32m    277\u001b[0m \u001b[38;5;28;01mfor\u001b[39;00m _ \u001b[38;5;129;01min\u001b[39;00m \u001b[38;5;28mrange\u001b[39m(max_redirects):\n\u001b[1;32m    278\u001b[0m     \u001b[38;5;28;01mtry\u001b[39;00m:\n\u001b[0;32m--> 279\u001b[0m         \u001b[38;5;28;01mreturn\u001b[39;00m \u001b[38;5;28;43mself\u001b[39;49m\u001b[38;5;241;43m.\u001b[39;49m\u001b[43m_call\u001b[49m\u001b[43m(\u001b[49m\u001b[43mtransaction\u001b[49m\u001b[43m,\u001b[49m\u001b[43m \u001b[49m\u001b[43mblock_identifier\u001b[49m\u001b[43m,\u001b[49m\u001b[43m \u001b[49m\u001b[43mstate_override\u001b[49m\u001b[43m)\u001b[49m\n\u001b[1;32m    280\u001b[0m     \u001b[38;5;28;01mexcept\u001b[39;00m OffchainLookup \u001b[38;5;28;01mas\u001b[39;00m offchain_lookup:\n\u001b[1;32m    281\u001b[0m         durin_calldata \u001b[38;5;241m=\u001b[39m handle_offchain_lookup(\n\u001b[1;32m    282\u001b[0m             offchain_lookup\u001b[38;5;241m.\u001b[39mpayload, transaction\n\u001b[1;32m    283\u001b[0m         )\n",
      "File \u001b[0;32m~/lil/lib/python3.10/site-packages/web3/module.py:75\u001b[0m, in \u001b[0;36mretrieve_blocking_method_call_fn.<locals>.caller\u001b[0;34m(*args, **kwargs)\u001b[0m\n\u001b[1;32m     68\u001b[0m     \u001b[38;5;28;01mreturn\u001b[39;00m LogFilter(eth_module\u001b[38;5;241m=\u001b[39mmodule, filter_id\u001b[38;5;241m=\u001b[39merr\u001b[38;5;241m.\u001b[39mfilter_id)\n\u001b[1;32m     70\u001b[0m (\n\u001b[1;32m     71\u001b[0m     result_formatters,\n\u001b[1;32m     72\u001b[0m     error_formatters,\n\u001b[1;32m     73\u001b[0m     null_result_formatters,\n\u001b[1;32m     74\u001b[0m ) \u001b[38;5;241m=\u001b[39m response_formatters\n\u001b[0;32m---> 75\u001b[0m result \u001b[38;5;241m=\u001b[39m \u001b[43mw3\u001b[49m\u001b[38;5;241;43m.\u001b[39;49m\u001b[43mmanager\u001b[49m\u001b[38;5;241;43m.\u001b[39;49m\u001b[43mrequest_blocking\u001b[49m\u001b[43m(\u001b[49m\n\u001b[1;32m     76\u001b[0m \u001b[43m    \u001b[49m\u001b[43mmethod_str\u001b[49m\u001b[43m,\u001b[49m\u001b[43m \u001b[49m\u001b[43mparams\u001b[49m\u001b[43m,\u001b[49m\u001b[43m \u001b[49m\u001b[43merror_formatters\u001b[49m\u001b[43m,\u001b[49m\u001b[43m \u001b[49m\u001b[43mnull_result_formatters\u001b[49m\n\u001b[1;32m     77\u001b[0m \u001b[43m\u001b[49m\u001b[43m)\u001b[49m\n\u001b[1;32m     78\u001b[0m \u001b[38;5;28;01mreturn\u001b[39;00m apply_result_formatters(result_formatters, result)\n",
      "File \u001b[0;32m~/lil/lib/python3.10/site-packages/web3/manager.py:329\u001b[0m, in \u001b[0;36mRequestManager.request_blocking\u001b[0;34m(self, method, params, error_formatters, null_result_formatters)\u001b[0m\n\u001b[1;32m    319\u001b[0m \u001b[38;5;28;01mdef\u001b[39;00m \u001b[38;5;21mrequest_blocking\u001b[39m(\n\u001b[1;32m    320\u001b[0m     \u001b[38;5;28mself\u001b[39m,\n\u001b[1;32m    321\u001b[0m     method: Union[RPCEndpoint, Callable[\u001b[38;5;241m.\u001b[39m\u001b[38;5;241m.\u001b[39m\u001b[38;5;241m.\u001b[39m, RPCEndpoint]],\n\u001b[0;32m   (...)\u001b[0m\n\u001b[1;32m    324\u001b[0m     null_result_formatters: Optional[Callable[\u001b[38;5;241m.\u001b[39m\u001b[38;5;241m.\u001b[39m\u001b[38;5;241m.\u001b[39m, Any]] \u001b[38;5;241m=\u001b[39m \u001b[38;5;28;01mNone\u001b[39;00m,\n\u001b[1;32m    325\u001b[0m ) \u001b[38;5;241m-\u001b[39m\u001b[38;5;241m>\u001b[39m Any:\n\u001b[1;32m    326\u001b[0m \u001b[38;5;250m    \u001b[39m\u001b[38;5;124;03m\"\"\"\u001b[39;00m\n\u001b[1;32m    327\u001b[0m \u001b[38;5;124;03m    Make a synchronous request using the provider\u001b[39;00m\n\u001b[1;32m    328\u001b[0m \u001b[38;5;124;03m    \"\"\"\u001b[39;00m\n\u001b[0;32m--> 329\u001b[0m     response \u001b[38;5;241m=\u001b[39m \u001b[38;5;28;43mself\u001b[39;49m\u001b[38;5;241;43m.\u001b[39;49m\u001b[43m_make_request\u001b[49m\u001b[43m(\u001b[49m\u001b[43mmethod\u001b[49m\u001b[43m,\u001b[49m\u001b[43m \u001b[49m\u001b[43mparams\u001b[49m\u001b[43m)\u001b[49m\n\u001b[1;32m    330\u001b[0m     \u001b[38;5;28;01mreturn\u001b[39;00m \u001b[38;5;28mself\u001b[39m\u001b[38;5;241m.\u001b[39mformatted_response(\n\u001b[1;32m    331\u001b[0m         response, params, error_formatters, null_result_formatters\n\u001b[1;32m    332\u001b[0m     )\n",
      "File \u001b[0;32m~/lil/lib/python3.10/site-packages/web3/manager.py:213\u001b[0m, in \u001b[0;36mRequestManager._make_request\u001b[0;34m(self, method, params)\u001b[0m\n\u001b[1;32m    209\u001b[0m request_func \u001b[38;5;241m=\u001b[39m provider\u001b[38;5;241m.\u001b[39mrequest_func(\n\u001b[1;32m    210\u001b[0m     cast(\u001b[38;5;124m\"\u001b[39m\u001b[38;5;124mWeb3\u001b[39m\u001b[38;5;124m\"\u001b[39m, \u001b[38;5;28mself\u001b[39m\u001b[38;5;241m.\u001b[39mw3), cast(MiddlewareOnion, \u001b[38;5;28mself\u001b[39m\u001b[38;5;241m.\u001b[39mmiddleware_onion)\n\u001b[1;32m    211\u001b[0m )\n\u001b[1;32m    212\u001b[0m \u001b[38;5;28mself\u001b[39m\u001b[38;5;241m.\u001b[39mlogger\u001b[38;5;241m.\u001b[39mdebug(\u001b[38;5;124mf\u001b[39m\u001b[38;5;124m\"\u001b[39m\u001b[38;5;124mMaking request. Method: \u001b[39m\u001b[38;5;132;01m{\u001b[39;00mmethod\u001b[38;5;132;01m}\u001b[39;00m\u001b[38;5;124m\"\u001b[39m)\n\u001b[0;32m--> 213\u001b[0m \u001b[38;5;28;01mreturn\u001b[39;00m \u001b[43mrequest_func\u001b[49m\u001b[43m(\u001b[49m\u001b[43mmethod\u001b[49m\u001b[43m,\u001b[49m\u001b[43m \u001b[49m\u001b[43mparams\u001b[49m\u001b[43m)\u001b[49m\n",
      "File \u001b[0;32m~/lil/lib/python3.10/site-packages/web3/middleware/stalecheck.py:66\u001b[0m, in \u001b[0;36mmake_stalecheck_middleware.<locals>.stalecheck_middleware.<locals>.middleware\u001b[0;34m(method, params)\u001b[0m\n\u001b[1;32m     64\u001b[0m \u001b[38;5;28;01mif\u001b[39;00m method \u001b[38;5;129;01mnot\u001b[39;00m \u001b[38;5;129;01min\u001b[39;00m skip_stalecheck_for_methods:\n\u001b[1;32m     65\u001b[0m     \u001b[38;5;28;01mif\u001b[39;00m \u001b[38;5;129;01mnot\u001b[39;00m _is_fresh(cache[\u001b[38;5;124m\"\u001b[39m\u001b[38;5;124mlatest\u001b[39m\u001b[38;5;124m\"\u001b[39m], allowable_delay):\n\u001b[0;32m---> 66\u001b[0m         latest \u001b[38;5;241m=\u001b[39m \u001b[43mw3\u001b[49m\u001b[38;5;241;43m.\u001b[39;49m\u001b[43meth\u001b[49m\u001b[38;5;241;43m.\u001b[39;49m\u001b[43mget_block\u001b[49m\u001b[43m(\u001b[49m\u001b[38;5;124;43m\"\u001b[39;49m\u001b[38;5;124;43mlatest\u001b[39;49m\u001b[38;5;124;43m\"\u001b[39;49m\u001b[43m)\u001b[49m\n\u001b[1;32m     67\u001b[0m         \u001b[38;5;28;01mif\u001b[39;00m _is_fresh(latest, allowable_delay):\n\u001b[1;32m     68\u001b[0m             cache[\u001b[38;5;124m\"\u001b[39m\u001b[38;5;124mlatest\u001b[39m\u001b[38;5;124m\"\u001b[39m] \u001b[38;5;241m=\u001b[39m latest\n",
      "File \u001b[0;32m~/lil/lib/python3.10/site-packages/web3/eth/eth.py:413\u001b[0m, in \u001b[0;36mEth.get_block\u001b[0;34m(self, block_identifier, full_transactions)\u001b[0m\n\u001b[1;32m    410\u001b[0m \u001b[38;5;28;01mdef\u001b[39;00m \u001b[38;5;21mget_block\u001b[39m(\n\u001b[1;32m    411\u001b[0m     \u001b[38;5;28mself\u001b[39m, block_identifier: BlockIdentifier, full_transactions: \u001b[38;5;28mbool\u001b[39m \u001b[38;5;241m=\u001b[39m \u001b[38;5;28;01mFalse\u001b[39;00m\n\u001b[1;32m    412\u001b[0m ) \u001b[38;5;241m-\u001b[39m\u001b[38;5;241m>\u001b[39m BlockData:\n\u001b[0;32m--> 413\u001b[0m     \u001b[38;5;28;01mreturn\u001b[39;00m \u001b[38;5;28;43mself\u001b[39;49m\u001b[38;5;241;43m.\u001b[39;49m\u001b[43m_get_block\u001b[49m\u001b[43m(\u001b[49m\u001b[43mblock_identifier\u001b[49m\u001b[43m,\u001b[49m\u001b[43m \u001b[49m\u001b[43mfull_transactions\u001b[49m\u001b[43m)\u001b[49m\n",
      "File \u001b[0;32m~/lil/lib/python3.10/site-packages/web3/module.py:75\u001b[0m, in \u001b[0;36mretrieve_blocking_method_call_fn.<locals>.caller\u001b[0;34m(*args, **kwargs)\u001b[0m\n\u001b[1;32m     68\u001b[0m     \u001b[38;5;28;01mreturn\u001b[39;00m LogFilter(eth_module\u001b[38;5;241m=\u001b[39mmodule, filter_id\u001b[38;5;241m=\u001b[39merr\u001b[38;5;241m.\u001b[39mfilter_id)\n\u001b[1;32m     70\u001b[0m (\n\u001b[1;32m     71\u001b[0m     result_formatters,\n\u001b[1;32m     72\u001b[0m     error_formatters,\n\u001b[1;32m     73\u001b[0m     null_result_formatters,\n\u001b[1;32m     74\u001b[0m ) \u001b[38;5;241m=\u001b[39m response_formatters\n\u001b[0;32m---> 75\u001b[0m result \u001b[38;5;241m=\u001b[39m \u001b[43mw3\u001b[49m\u001b[38;5;241;43m.\u001b[39;49m\u001b[43mmanager\u001b[49m\u001b[38;5;241;43m.\u001b[39;49m\u001b[43mrequest_blocking\u001b[49m\u001b[43m(\u001b[49m\n\u001b[1;32m     76\u001b[0m \u001b[43m    \u001b[49m\u001b[43mmethod_str\u001b[49m\u001b[43m,\u001b[49m\u001b[43m \u001b[49m\u001b[43mparams\u001b[49m\u001b[43m,\u001b[49m\u001b[43m \u001b[49m\u001b[43merror_formatters\u001b[49m\u001b[43m,\u001b[49m\u001b[43m \u001b[49m\u001b[43mnull_result_formatters\u001b[49m\n\u001b[1;32m     77\u001b[0m \u001b[43m\u001b[49m\u001b[43m)\u001b[49m\n\u001b[1;32m     78\u001b[0m \u001b[38;5;28;01mreturn\u001b[39;00m apply_result_formatters(result_formatters, result)\n",
      "File \u001b[0;32m~/lil/lib/python3.10/site-packages/web3/manager.py:329\u001b[0m, in \u001b[0;36mRequestManager.request_blocking\u001b[0;34m(self, method, params, error_formatters, null_result_formatters)\u001b[0m\n\u001b[1;32m    319\u001b[0m \u001b[38;5;28;01mdef\u001b[39;00m \u001b[38;5;21mrequest_blocking\u001b[39m(\n\u001b[1;32m    320\u001b[0m     \u001b[38;5;28mself\u001b[39m,\n\u001b[1;32m    321\u001b[0m     method: Union[RPCEndpoint, Callable[\u001b[38;5;241m.\u001b[39m\u001b[38;5;241m.\u001b[39m\u001b[38;5;241m.\u001b[39m, RPCEndpoint]],\n\u001b[0;32m   (...)\u001b[0m\n\u001b[1;32m    324\u001b[0m     null_result_formatters: Optional[Callable[\u001b[38;5;241m.\u001b[39m\u001b[38;5;241m.\u001b[39m\u001b[38;5;241m.\u001b[39m, Any]] \u001b[38;5;241m=\u001b[39m \u001b[38;5;28;01mNone\u001b[39;00m,\n\u001b[1;32m    325\u001b[0m ) \u001b[38;5;241m-\u001b[39m\u001b[38;5;241m>\u001b[39m Any:\n\u001b[1;32m    326\u001b[0m \u001b[38;5;250m    \u001b[39m\u001b[38;5;124;03m\"\"\"\u001b[39;00m\n\u001b[1;32m    327\u001b[0m \u001b[38;5;124;03m    Make a synchronous request using the provider\u001b[39;00m\n\u001b[1;32m    328\u001b[0m \u001b[38;5;124;03m    \"\"\"\u001b[39;00m\n\u001b[0;32m--> 329\u001b[0m     response \u001b[38;5;241m=\u001b[39m \u001b[38;5;28;43mself\u001b[39;49m\u001b[38;5;241;43m.\u001b[39;49m\u001b[43m_make_request\u001b[49m\u001b[43m(\u001b[49m\u001b[43mmethod\u001b[49m\u001b[43m,\u001b[49m\u001b[43m \u001b[49m\u001b[43mparams\u001b[49m\u001b[43m)\u001b[49m\n\u001b[1;32m    330\u001b[0m     \u001b[38;5;28;01mreturn\u001b[39;00m \u001b[38;5;28mself\u001b[39m\u001b[38;5;241m.\u001b[39mformatted_response(\n\u001b[1;32m    331\u001b[0m         response, params, error_formatters, null_result_formatters\n\u001b[1;32m    332\u001b[0m     )\n",
      "File \u001b[0;32m~/lil/lib/python3.10/site-packages/web3/manager.py:213\u001b[0m, in \u001b[0;36mRequestManager._make_request\u001b[0;34m(self, method, params)\u001b[0m\n\u001b[1;32m    209\u001b[0m request_func \u001b[38;5;241m=\u001b[39m provider\u001b[38;5;241m.\u001b[39mrequest_func(\n\u001b[1;32m    210\u001b[0m     cast(\u001b[38;5;124m\"\u001b[39m\u001b[38;5;124mWeb3\u001b[39m\u001b[38;5;124m\"\u001b[39m, \u001b[38;5;28mself\u001b[39m\u001b[38;5;241m.\u001b[39mw3), cast(MiddlewareOnion, \u001b[38;5;28mself\u001b[39m\u001b[38;5;241m.\u001b[39mmiddleware_onion)\n\u001b[1;32m    211\u001b[0m )\n\u001b[1;32m    212\u001b[0m \u001b[38;5;28mself\u001b[39m\u001b[38;5;241m.\u001b[39mlogger\u001b[38;5;241m.\u001b[39mdebug(\u001b[38;5;124mf\u001b[39m\u001b[38;5;124m\"\u001b[39m\u001b[38;5;124mMaking request. Method: \u001b[39m\u001b[38;5;132;01m{\u001b[39;00mmethod\u001b[38;5;132;01m}\u001b[39;00m\u001b[38;5;124m\"\u001b[39m)\n\u001b[0;32m--> 213\u001b[0m \u001b[38;5;28;01mreturn\u001b[39;00m \u001b[43mrequest_func\u001b[49m\u001b[43m(\u001b[49m\u001b[43mmethod\u001b[49m\u001b[43m,\u001b[49m\u001b[43m \u001b[49m\u001b[43mparams\u001b[49m\u001b[43m)\u001b[49m\n",
      "File \u001b[0;32m~/lil/lib/python3.10/site-packages/web3/middleware/stalecheck.py:72\u001b[0m, in \u001b[0;36mmake_stalecheck_middleware.<locals>.stalecheck_middleware.<locals>.middleware\u001b[0;34m(method, params)\u001b[0m\n\u001b[1;32m     69\u001b[0m         \u001b[38;5;28;01melse\u001b[39;00m:\n\u001b[1;32m     70\u001b[0m             \u001b[38;5;28;01mraise\u001b[39;00m StaleBlockchain(latest, allowable_delay)\n\u001b[0;32m---> 72\u001b[0m \u001b[38;5;28;01mreturn\u001b[39;00m \u001b[43mmake_request\u001b[49m\u001b[43m(\u001b[49m\u001b[43mmethod\u001b[49m\u001b[43m,\u001b[49m\u001b[43m \u001b[49m\u001b[43mparams\u001b[49m\u001b[43m)\u001b[49m\n",
      "File \u001b[0;32m~/lil/lib/python3.10/site-packages/web3/middleware/gas_price_strategy.py:101\u001b[0m, in \u001b[0;36mgas_price_strategy_middleware.<locals>.middleware\u001b[0;34m(method, params)\u001b[0m\n\u001b[1;32m     97\u001b[0m     transaction \u001b[38;5;241m=\u001b[39m validate_transaction_params(\n\u001b[1;32m     98\u001b[0m         transaction, latest_block, generated_gas_price\n\u001b[1;32m     99\u001b[0m     )\n\u001b[1;32m    100\u001b[0m     \u001b[38;5;28;01mreturn\u001b[39;00m make_request(method, (transaction,))\n\u001b[0;32m--> 101\u001b[0m \u001b[38;5;28;01mreturn\u001b[39;00m \u001b[43mmake_request\u001b[49m\u001b[43m(\u001b[49m\u001b[43mmethod\u001b[49m\u001b[43m,\u001b[49m\u001b[43m \u001b[49m\u001b[43mparams\u001b[49m\u001b[43m)\u001b[49m\n",
      "File \u001b[0;32m~/lil/lib/python3.10/site-packages/web3/middleware/attrdict.py:43\u001b[0m, in \u001b[0;36mattrdict_middleware.<locals>.middleware\u001b[0;34m(method, params)\u001b[0m\n\u001b[1;32m     42\u001b[0m \u001b[38;5;28;01mdef\u001b[39;00m \u001b[38;5;21mmiddleware\u001b[39m(method: RPCEndpoint, params: Any) \u001b[38;5;241m-\u001b[39m\u001b[38;5;241m>\u001b[39m RPCResponse:\n\u001b[0;32m---> 43\u001b[0m     response \u001b[38;5;241m=\u001b[39m \u001b[43mmake_request\u001b[49m\u001b[43m(\u001b[49m\u001b[43mmethod\u001b[49m\u001b[43m,\u001b[49m\u001b[43m \u001b[49m\u001b[43mparams\u001b[49m\u001b[43m)\u001b[49m\n\u001b[1;32m     45\u001b[0m     \u001b[38;5;28;01mif\u001b[39;00m \u001b[38;5;124m\"\u001b[39m\u001b[38;5;124mresult\u001b[39m\u001b[38;5;124m\"\u001b[39m \u001b[38;5;129;01min\u001b[39;00m response:\n\u001b[1;32m     46\u001b[0m         \u001b[38;5;28;01mreturn\u001b[39;00m assoc(\n\u001b[1;32m     47\u001b[0m             response, \u001b[38;5;124m\"\u001b[39m\u001b[38;5;124mresult\u001b[39m\u001b[38;5;124m\"\u001b[39m, AttributeDict\u001b[38;5;241m.\u001b[39mrecursive(response[\u001b[38;5;124m\"\u001b[39m\u001b[38;5;124mresult\u001b[39m\u001b[38;5;124m\"\u001b[39m])\n\u001b[1;32m     48\u001b[0m         )\n",
      "File \u001b[0;32m~/lil/lib/python3.10/site-packages/web3/middleware/formatting.py:126\u001b[0m, in \u001b[0;36mconstruct_web3_formatting_middleware.<locals>.formatter_middleware.<locals>.middleware\u001b[0;34m(method, params)\u001b[0m\n\u001b[1;32m    124\u001b[0m     formatter \u001b[38;5;241m=\u001b[39m request_formatters[method]\n\u001b[1;32m    125\u001b[0m     params \u001b[38;5;241m=\u001b[39m formatter(params)\n\u001b[0;32m--> 126\u001b[0m response \u001b[38;5;241m=\u001b[39m \u001b[43mmake_request\u001b[49m\u001b[43m(\u001b[49m\u001b[43mmethod\u001b[49m\u001b[43m,\u001b[49m\u001b[43m \u001b[49m\u001b[43mparams\u001b[49m\u001b[43m)\u001b[49m\n\u001b[1;32m    128\u001b[0m \u001b[38;5;28;01mreturn\u001b[39;00m _apply_response_formatters(\n\u001b[1;32m    129\u001b[0m     method,\n\u001b[1;32m    130\u001b[0m     formatters[\u001b[38;5;124m\"\u001b[39m\u001b[38;5;124mresult_formatters\u001b[39m\u001b[38;5;124m\"\u001b[39m],\n\u001b[1;32m    131\u001b[0m     formatters[\u001b[38;5;124m\"\u001b[39m\u001b[38;5;124merror_formatters\u001b[39m\u001b[38;5;124m\"\u001b[39m],\n\u001b[1;32m    132\u001b[0m     response,\n\u001b[1;32m    133\u001b[0m )\n",
      "File \u001b[0;32m~/lil/lib/python3.10/site-packages/web3/middleware/formatting.py:126\u001b[0m, in \u001b[0;36mconstruct_web3_formatting_middleware.<locals>.formatter_middleware.<locals>.middleware\u001b[0;34m(method, params)\u001b[0m\n\u001b[1;32m    124\u001b[0m     formatter \u001b[38;5;241m=\u001b[39m request_formatters[method]\n\u001b[1;32m    125\u001b[0m     params \u001b[38;5;241m=\u001b[39m formatter(params)\n\u001b[0;32m--> 126\u001b[0m response \u001b[38;5;241m=\u001b[39m \u001b[43mmake_request\u001b[49m\u001b[43m(\u001b[49m\u001b[43mmethod\u001b[49m\u001b[43m,\u001b[49m\u001b[43m \u001b[49m\u001b[43mparams\u001b[49m\u001b[43m)\u001b[49m\n\u001b[1;32m    128\u001b[0m \u001b[38;5;28;01mreturn\u001b[39;00m _apply_response_formatters(\n\u001b[1;32m    129\u001b[0m     method,\n\u001b[1;32m    130\u001b[0m     formatters[\u001b[38;5;124m\"\u001b[39m\u001b[38;5;124mresult_formatters\u001b[39m\u001b[38;5;124m\"\u001b[39m],\n\u001b[1;32m    131\u001b[0m     formatters[\u001b[38;5;124m\"\u001b[39m\u001b[38;5;124merror_formatters\u001b[39m\u001b[38;5;124m\"\u001b[39m],\n\u001b[1;32m    132\u001b[0m     response,\n\u001b[1;32m    133\u001b[0m )\n",
      "File \u001b[0;32m~/lil/lib/python3.10/site-packages/web3/middleware/buffered_gas_estimate.py:43\u001b[0m, in \u001b[0;36mbuffered_gas_estimate_middleware.<locals>.middleware\u001b[0;34m(method, params)\u001b[0m\n\u001b[1;32m     37\u001b[0m         transaction \u001b[38;5;241m=\u001b[39m assoc(\n\u001b[1;32m     38\u001b[0m             transaction,\n\u001b[1;32m     39\u001b[0m             \u001b[38;5;124m\"\u001b[39m\u001b[38;5;124mgas\u001b[39m\u001b[38;5;124m\"\u001b[39m,\n\u001b[1;32m     40\u001b[0m             \u001b[38;5;28mhex\u001b[39m(get_buffered_gas_estimate(w3, transaction)),\n\u001b[1;32m     41\u001b[0m         )\n\u001b[1;32m     42\u001b[0m         \u001b[38;5;28;01mreturn\u001b[39;00m make_request(method, [transaction])\n\u001b[0;32m---> 43\u001b[0m \u001b[38;5;28;01mreturn\u001b[39;00m \u001b[43mmake_request\u001b[49m\u001b[43m(\u001b[49m\u001b[43mmethod\u001b[49m\u001b[43m,\u001b[49m\u001b[43m \u001b[49m\u001b[43mparams\u001b[49m\u001b[43m)\u001b[49m\n",
      "File \u001b[0;32m~/lil/lib/python3.10/site-packages/web3/middleware/exception_retry_request.py:125\u001b[0m, in \u001b[0;36mexception_retry_middleware.<locals>.middleware\u001b[0;34m(method, params)\u001b[0m\n\u001b[1;32m    123\u001b[0m \u001b[38;5;28;01mfor\u001b[39;00m i \u001b[38;5;129;01min\u001b[39;00m \u001b[38;5;28mrange\u001b[39m(retries):\n\u001b[1;32m    124\u001b[0m     \u001b[38;5;28;01mtry\u001b[39;00m:\n\u001b[0;32m--> 125\u001b[0m         \u001b[38;5;28;01mreturn\u001b[39;00m \u001b[43mmake_request\u001b[49m\u001b[43m(\u001b[49m\u001b[43mmethod\u001b[49m\u001b[43m,\u001b[49m\u001b[43m \u001b[49m\u001b[43mparams\u001b[49m\u001b[43m)\u001b[49m\n\u001b[1;32m    126\u001b[0m     \u001b[38;5;28;01mexcept\u001b[39;00m \u001b[38;5;28mtuple\u001b[39m(errors):\n\u001b[1;32m    127\u001b[0m         \u001b[38;5;28;01mif\u001b[39;00m i \u001b[38;5;241m<\u001b[39m retries \u001b[38;5;241m-\u001b[39m \u001b[38;5;241m1\u001b[39m:\n",
      "File \u001b[0;32m~/lil/lib/python3.10/site-packages/web3/providers/rpc.py:90\u001b[0m, in \u001b[0;36mHTTPProvider.make_request\u001b[0;34m(self, method, params)\u001b[0m\n\u001b[1;32m     86\u001b[0m \u001b[38;5;28mself\u001b[39m\u001b[38;5;241m.\u001b[39mlogger\u001b[38;5;241m.\u001b[39mdebug(\n\u001b[1;32m     87\u001b[0m     \u001b[38;5;124mf\u001b[39m\u001b[38;5;124m\"\u001b[39m\u001b[38;5;124mMaking request HTTP. URI: \u001b[39m\u001b[38;5;132;01m{\u001b[39;00m\u001b[38;5;28mself\u001b[39m\u001b[38;5;241m.\u001b[39mendpoint_uri\u001b[38;5;132;01m}\u001b[39;00m\u001b[38;5;124m, Method: \u001b[39m\u001b[38;5;132;01m{\u001b[39;00mmethod\u001b[38;5;132;01m}\u001b[39;00m\u001b[38;5;124m\"\u001b[39m\n\u001b[1;32m     88\u001b[0m )\n\u001b[1;32m     89\u001b[0m request_data \u001b[38;5;241m=\u001b[39m \u001b[38;5;28mself\u001b[39m\u001b[38;5;241m.\u001b[39mencode_rpc_request(method, params)\n\u001b[0;32m---> 90\u001b[0m raw_response \u001b[38;5;241m=\u001b[39m \u001b[43mmake_post_request\u001b[49m\u001b[43m(\u001b[49m\n\u001b[1;32m     91\u001b[0m \u001b[43m    \u001b[49m\u001b[38;5;28;43mself\u001b[39;49m\u001b[38;5;241;43m.\u001b[39;49m\u001b[43mendpoint_uri\u001b[49m\u001b[43m,\u001b[49m\u001b[43m \u001b[49m\u001b[43mrequest_data\u001b[49m\u001b[43m,\u001b[49m\u001b[43m \u001b[49m\u001b[38;5;241;43m*\u001b[39;49m\u001b[38;5;241;43m*\u001b[39;49m\u001b[38;5;28;43mself\u001b[39;49m\u001b[38;5;241;43m.\u001b[39;49m\u001b[43mget_request_kwargs\u001b[49m\u001b[43m(\u001b[49m\u001b[43m)\u001b[49m\n\u001b[1;32m     92\u001b[0m \u001b[43m\u001b[49m\u001b[43m)\u001b[49m\n\u001b[1;32m     93\u001b[0m response \u001b[38;5;241m=\u001b[39m \u001b[38;5;28mself\u001b[39m\u001b[38;5;241m.\u001b[39mdecode_rpc_response(raw_response)\n\u001b[1;32m     94\u001b[0m \u001b[38;5;28mself\u001b[39m\u001b[38;5;241m.\u001b[39mlogger\u001b[38;5;241m.\u001b[39mdebug(\n\u001b[1;32m     95\u001b[0m     \u001b[38;5;124mf\u001b[39m\u001b[38;5;124m\"\u001b[39m\u001b[38;5;124mGetting response HTTP. URI: \u001b[39m\u001b[38;5;132;01m{\u001b[39;00m\u001b[38;5;28mself\u001b[39m\u001b[38;5;241m.\u001b[39mendpoint_uri\u001b[38;5;132;01m}\u001b[39;00m\u001b[38;5;124m, \u001b[39m\u001b[38;5;124m\"\u001b[39m\n\u001b[1;32m     96\u001b[0m     \u001b[38;5;124mf\u001b[39m\u001b[38;5;124m\"\u001b[39m\u001b[38;5;124mMethod: \u001b[39m\u001b[38;5;132;01m{\u001b[39;00mmethod\u001b[38;5;132;01m}\u001b[39;00m\u001b[38;5;124m, Response: \u001b[39m\u001b[38;5;132;01m{\u001b[39;00mresponse\u001b[38;5;132;01m}\u001b[39;00m\u001b[38;5;124m\"\u001b[39m\n\u001b[1;32m     97\u001b[0m )\n",
      "File \u001b[0;32m~/lil/lib/python3.10/site-packages/web3/_utils/request.py:115\u001b[0m, in \u001b[0;36mmake_post_request\u001b[0;34m(endpoint_uri, data, *args, **kwargs)\u001b[0m\n\u001b[1;32m    111\u001b[0m \u001b[38;5;28;01mdef\u001b[39;00m \u001b[38;5;21mmake_post_request\u001b[39m(\n\u001b[1;32m    112\u001b[0m     endpoint_uri: URI, data: Union[\u001b[38;5;28mbytes\u001b[39m, Dict[\u001b[38;5;28mstr\u001b[39m, Any]], \u001b[38;5;241m*\u001b[39margs: Any, \u001b[38;5;241m*\u001b[39m\u001b[38;5;241m*\u001b[39mkwargs: Any\n\u001b[1;32m    113\u001b[0m ) \u001b[38;5;241m-\u001b[39m\u001b[38;5;241m>\u001b[39m \u001b[38;5;28mbytes\u001b[39m:\n\u001b[1;32m    114\u001b[0m     response \u001b[38;5;241m=\u001b[39m get_response_from_post_request(endpoint_uri, data\u001b[38;5;241m=\u001b[39mdata, \u001b[38;5;241m*\u001b[39margs, \u001b[38;5;241m*\u001b[39m\u001b[38;5;241m*\u001b[39mkwargs)\n\u001b[0;32m--> 115\u001b[0m     \u001b[43mresponse\u001b[49m\u001b[38;5;241;43m.\u001b[39;49m\u001b[43mraise_for_status\u001b[49m\u001b[43m(\u001b[49m\u001b[43m)\u001b[49m\n\u001b[1;32m    116\u001b[0m     \u001b[38;5;28;01mreturn\u001b[39;00m response\u001b[38;5;241m.\u001b[39mcontent\n",
      "File \u001b[0;32m~/lil/lib/python3.10/site-packages/requests/models.py:1024\u001b[0m, in \u001b[0;36mResponse.raise_for_status\u001b[0;34m(self)\u001b[0m\n\u001b[1;32m   1019\u001b[0m     http_error_msg \u001b[38;5;241m=\u001b[39m (\n\u001b[1;32m   1020\u001b[0m         \u001b[38;5;124mf\u001b[39m\u001b[38;5;124m\"\u001b[39m\u001b[38;5;132;01m{\u001b[39;00m\u001b[38;5;28mself\u001b[39m\u001b[38;5;241m.\u001b[39mstatus_code\u001b[38;5;132;01m}\u001b[39;00m\u001b[38;5;124m Server Error: \u001b[39m\u001b[38;5;132;01m{\u001b[39;00mreason\u001b[38;5;132;01m}\u001b[39;00m\u001b[38;5;124m for url: \u001b[39m\u001b[38;5;132;01m{\u001b[39;00m\u001b[38;5;28mself\u001b[39m\u001b[38;5;241m.\u001b[39murl\u001b[38;5;132;01m}\u001b[39;00m\u001b[38;5;124m\"\u001b[39m\n\u001b[1;32m   1021\u001b[0m     )\n\u001b[1;32m   1023\u001b[0m \u001b[38;5;28;01mif\u001b[39;00m http_error_msg:\n\u001b[0;32m-> 1024\u001b[0m     \u001b[38;5;28;01mraise\u001b[39;00m HTTPError(http_error_msg, response\u001b[38;5;241m=\u001b[39m\u001b[38;5;28mself\u001b[39m)\n",
      "\u001b[0;31mHTTPError\u001b[0m: 400 Client Error: Bad Request for url: https://solana-mainnet.g.alchemy.com/v2/KgpuMjqocuyieV47x-HcBYGyi8LrIFb8"
     ]
    }
   ],
   "source": [
    "from web3 import Web3\n",
    "# Load ABIs\n",
    "\n",
    "w3 = Web3(Web3.HTTPProvider(\"https://solana-mainnet.g.alchemy.com/v2/KgpuMjqocuyieV47x-HcBYGyi8LrIFb8\"))\n",
    "\n",
    "\n",
    "with open('DlnSource.abi.json') as f:\n",
    "    dln_source_abi = json.load(f)\n",
    "\n",
    "with open('erc20.abi.json') as f:  # Load the ERC-20 ABI\n",
    "    erc20_abi = json.load(f)\n",
    "\n",
    "# Contract addresses\n",
    "DLN_SOURCE_ADDRESS = \"src5qyZHqTqecJV4aY6Cb6zDZLMDzrDKKezs22MPHr4\"\n",
    "SRC_CHAIN_TOKEN_IN_ADDRESS = \"0xaf88d065e77c8cC2239327C5EDb3A432268e5831\"  # USDC on Arbitrum\n",
    "\n",
    "# Create contract instances\n",
    "dln_source_contract = w3.eth.contract(address=DLN_SOURCE_ADDRESS, abi=dln_source_abi)"
   ]
  },
  {
   "cell_type": "code",
   "execution_count": null,
   "metadata": {},
   "outputs": [],
   "source": []
  },
  {
   "cell_type": "code",
   "execution_count": null,
   "metadata": {},
   "outputs": [],
   "source": []
  },
  {
   "cell_type": "code",
   "execution_count": 1,
   "metadata": {},
   "outputs": [],
   "source": [
    "from solders.message import Message\n",
    "from solders.keypair import Keypair\n",
    "from solders.instruction import Instruction\n",
    "from solders.hash import Hash\n",
    "from solders.transaction import Transaction\n",
    "from solders.pubkey import Pubkey\n",
    "\n"
   ]
  },
  {
   "cell_type": "code",
   "execution_count": 12,
   "metadata": {},
   "outputs": [
    {
     "ename": "TypeError",
     "evalue": "Account() takes no arguments",
     "output_type": "error",
     "traceback": [
      "\u001b[0;31m---------------------------------------------------------------------------\u001b[0m",
      "\u001b[0;31mTypeError\u001b[0m                                 Traceback (most recent call last)",
      "Cell \u001b[0;32mIn[12], line 1\u001b[0m\n\u001b[0;32m----> 1\u001b[0m \u001b[43mAccount\u001b[49m\u001b[43m(\u001b[49m\u001b[43mKeypair\u001b[49m\u001b[43m)\u001b[49m\n",
      "\u001b[0;31mTypeError\u001b[0m: Account() takes no arguments"
     ]
    }
   ],
   "source": [
    "program_id = Pubkey.default()\n",
    "arbitrary_instruction_data = bytes([1])\n",
    "accounts = []\n",
    "instruction = Instruction(program_id, arbitrary_instruction_data, accounts)\n",
    "payer = Keypair()\n",
    "message = Message([instruction], payer.pubkey())\n",
    "blockhash = Hash.default()  # replace with a real blockhash\n",
    "tx = Transaction([payer], message, blockhash)"
   ]
  },
  {
   "cell_type": "code",
   "execution_count": 12,
   "metadata": {},
   "outputs": [],
   "source": [
    "import json\n",
    "from web3 import Web3\n",
    "\n",
    "\n",
    "w3 = Web3(Web3.HTTPProvider('https://solana-mainnet.g.alchemy.com/v2/KgpuMjqocuyieV47x-HcBYGyi8LrIFb8'))\n",
    "\n",
    "with open('DlnSource.abi.json') as f:\n",
    "    dln_source_abi = json.load(f)\n",
    "\n",
    "with open('erc20.abi.json') as f:  # Load the ERC-20 ABI\n",
    "    erc20_abi = json.load(f)\n",
    "\n",
    "\n",
    "\n",
    "\n"
   ]
  },
  {
   "cell_type": "code",
   "execution_count": 15,
   "metadata": {},
   "outputs": [
    {
     "data": {
      "text/plain": [
       "<eth_account.account.Account at 0x7fa35c7940a0>"
      ]
     },
     "execution_count": 15,
     "metadata": {},
     "output_type": "execute_result"
    }
   ],
   "source": [
    "w3.eth.Trans"
   ]
  },
  {
   "cell_type": "code",
   "execution_count": null,
   "metadata": {},
   "outputs": [],
   "source": []
  }
 ],
 "metadata": {
  "kernelspec": {
   "display_name": "lil",
   "language": "python",
   "name": "python3"
  },
  "language_info": {
   "codemirror_mode": {
    "name": "ipython",
    "version": 3
   },
   "file_extension": ".py",
   "mimetype": "text/x-python",
   "name": "python",
   "nbconvert_exporter": "python",
   "pygments_lexer": "ipython3",
   "version": "3.10.12"
  }
 },
 "nbformat": 4,
 "nbformat_minor": 2
}
